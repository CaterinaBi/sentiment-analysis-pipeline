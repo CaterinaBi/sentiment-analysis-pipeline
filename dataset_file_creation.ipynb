{
 "cells": [
  {
   "cell_type": "markdown",
   "metadata": {},
   "source": [
    "In this notebook, I'll create the data file to use in a sentiment analysis pipeline."
   ]
  },
  {
   "cell_type": "markdown",
   "metadata": {},
   "source": [
    "The chosen dataset, the Stanford Sentiment Treebank, stores reviews snippets in a file called `dictionary.txt`, and their respective sentiment value in `sentiment_labels.txt`. Here, I shall combine these pieces of information in a dictionary that maps reviews to values, and then convert the dictionary in a .csv file."
   ]
  },
  {
   "cell_type": "code",
   "execution_count": 3,
   "metadata": {},
   "outputs": [],
   "source": [
    "import re\n",
    "import csv"
   ]
  },
  {
   "cell_type": "code",
   "execution_count": 4,
   "metadata": {},
   "outputs": [
    {
     "name": "stdout",
     "output_type": "stream",
     "text": [
      "239232\n",
      "239232\n"
     ]
    }
   ],
   "source": [
    "# initialises review dictionary\n",
    "# this will map each snippet of text (key) to the corresponding id (value)\n",
    "review_list = []\n",
    "search = r'[\\n]'\n",
    "\n",
    "# opens the review file\n",
    "with open('stanfordSentimentTreebank/dictionary.txt') as review_file:\n",
    "    # iterates through each row\n",
    "    for row in review_file:\n",
    "        string = str(row) # converts row into a string\n",
    "        split_string = string.split('|') # splits the string in two parts (snippet and id)\n",
    "\n",
    "        review_dict = {}\n",
    "        # sets the second element of the string (id) as key\n",
    "        # snippet id is followed by \\n, which we want to strip\n",
    "        review_dict['id'] = int(re.sub(search, '', split_string[1]))\n",
    "        # sets the first element of the string (snippet) as value\n",
    "        review_dict['value'] = split_string[0]\n",
    "\n",
    "        review_list.append(review_dict)\n",
    "\n",
    "# sorts list of dicts by id value\n",
    "review_list = sorted(review_list, key=lambda i: i['id'])\n",
    "\n",
    "# modify dictionaries to only have one key\n",
    "sorted_dict_list = []\n",
    "for dict in review_list:\n",
    "    id = dict['id']\n",
    "    snippet = dict['value'] \n",
    "    dict[id] = snippet \n",
    "\n",
    "    del dict['id']\n",
    "    del dict['value']\n",
    "    \n",
    "    sorted_dict_list.append(dict)\n",
    "\n",
    "# checks dictionary length is correct\n",
    "print(len(review_list))\n",
    "print(len(sorted_dict_list)) # uncomment to check dictionary is correctly built"
   ]
  },
  {
   "cell_type": "code",
   "execution_count": 5,
   "metadata": {},
   "outputs": [
    {
     "name": "stdout",
     "output_type": "stream",
     "text": [
      "239232\n",
      "239232\n"
     ]
    }
   ],
   "source": [
    "sentiment_list = []\n",
    "\n",
    "# opens the sentiment value file\n",
    "with open('stanfordSentimentTreebank/sentiment_labels.txt') as sentiment_file:\n",
    "    # iterates through each row\n",
    "    for x, sent_row in enumerate(sentiment_file):\n",
    "        sentiment_dict = {}\n",
    "\n",
    "        if x != 0:\n",
    "            sentiment_split_string = sent_row.split('|')\n",
    "\n",
    "            id = int(sentiment_split_string[0]) # equivalent to dictionary keys\n",
    "            # print(len(id))\n",
    "            # re.sub needs to be converted into string to be used as a dictionary key\n",
    "            score = str(re.sub(search, '', sentiment_split_string[1]))\n",
    "\n",
    "            # removes the old keys and replaces them with the corresponding sentiment value\n",
    "            sentiment_dict['id'] = id\n",
    "            sentiment_dict['score'] = score\n",
    "\n",
    "            sentiment_list.append(sentiment_dict)\n",
    "\n",
    "# modify dictionaries to only have one key\n",
    "sorted_sentiment_list = []\n",
    "for dict in sentiment_list:\n",
    "    id2 = dict['id']\n",
    "    score = dict['score'] \n",
    "    dict[id2] = score\n",
    "\n",
    "    del dict['id']\n",
    "    del dict['score']\n",
    "    \n",
    "    sorted_sentiment_list.append(dict)\n",
    "\n",
    "# slices list to exclude first element\n",
    "# sentiment_list = sentiment_list[1:]\n",
    "# print(row_count)\n",
    "print(len(sentiment_list))            \n",
    "print(len(sorted_sentiment_list)) # uncomment to check whether dictionary is correctly built"
   ]
  },
  {
   "cell_type": "code",
   "execution_count": 6,
   "metadata": {},
   "outputs": [
    {
     "name": "stdout",
     "output_type": "stream",
     "text": [
      "239232\n",
      "<class 'list'>\n"
     ]
    }
   ],
   "source": [
    "# extract scores from sorted_sentiment_list, stores it in list\n",
    "\n",
    "scores = []\n",
    "\n",
    "for dict in sorted_sentiment_list:\n",
    "    items = dict.items()\n",
    "\n",
    "    for item in items:\n",
    "        scores.append(item[1])\n",
    " \n",
    "print(len(scores)) \n",
    "print(type(scores))"
   ]
  },
  {
   "cell_type": "code",
   "execution_count": 7,
   "metadata": {},
   "outputs": [
    {
     "name": "stdout",
     "output_type": "stream",
     "text": [
      "239232\n",
      "<class 'list'>\n"
     ]
    }
   ],
   "source": [
    "# extract snippets from sorted_dict_list, stores in a list\n",
    "\n",
    "snippets = []\n",
    "\n",
    "for dict in sorted_dict_list:\n",
    "    items = dict.items()\n",
    "\n",
    "    for item in items:\n",
    "        snippets.append(item[1])\n",
    " \n",
    "print(len(snippets)) \n",
    "print(type(snippets))"
   ]
  },
  {
   "cell_type": "code",
   "execution_count": 8,
   "metadata": {},
   "outputs": [],
   "source": [
    "final_dictionary = {k: v for k, v in zip(snippets, scores)}"
   ]
  },
  {
   "cell_type": "markdown",
   "metadata": {},
   "source": [
    "I will now convert our dictionary into a .cvs file, which I will call `dataset.cvs`. The file will display the sentiment score on the second column and the associated snippet on the first column."
   ]
  },
  {
   "cell_type": "code",
   "execution_count": 9,
   "metadata": {},
   "outputs": [],
   "source": [
    "# decides on file name and extension\n",
    "csv_file = \"dataset.csv\"\n",
    "\n",
    "with open(csv_file, 'w') as csvFile:\n",
    "        for key in final_dictionary.keys():\n",
    "                csvFile.write(\"%s, %s\\n\" % (key, final_dictionary[key]))"
   ]
  }
 ],
 "metadata": {
  "interpreter": {
   "hash": "f5335eeea33ebf6696add4ab17cc9c72a1358f0fa3ca762c2d5eed5a49847338"
  },
  "kernelspec": {
   "display_name": "Python 3.9.13 ('tensf-environment')",
   "language": "python",
   "name": "python3"
  },
  "language_info": {
   "codemirror_mode": {
    "name": "ipython",
    "version": 3
   },
   "file_extension": ".py",
   "mimetype": "text/x-python",
   "name": "python",
   "nbconvert_exporter": "python",
   "pygments_lexer": "ipython3",
   "version": "3.9.13"
  },
  "orig_nbformat": 4
 },
 "nbformat": 4,
 "nbformat_minor": 2
}
