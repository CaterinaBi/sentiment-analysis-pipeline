{
 "cells": [
  {
   "cell_type": "markdown",
   "metadata": {},
   "source": [
    "In this notebook, I'll create a sentiment analysis pipeline in Tensorflow using Python."
   ]
  },
  {
   "cell_type": "markdown",
   "metadata": {},
   "source": [
    "The chosen dataset, the Stanford Sentiment Treebank, stores reviews snippets in a file called `dictionary.txt`, and their respective sentiment value in `sentiment_labels.txt`. Here, I shall combine these pieces of information in a dictionary that maps reviews to values, and then convert the dictionary in a .cvs file."
   ]
  },
  {
   "cell_type": "code",
   "execution_count": 25,
   "metadata": {},
   "outputs": [],
   "source": [
    "import re"
   ]
  },
  {
   "cell_type": "code",
   "execution_count": 33,
   "metadata": {},
   "outputs": [
    {
     "name": "stdout",
     "output_type": "stream",
     "text": [
      "239232\n"
     ]
    }
   ],
   "source": [
    "# initialises review dictionary\n",
    "# this will map each snippet of text (key) to the corresponding id (value)\n",
    "review_dict = {}\n",
    "row_count = 0\n",
    "search = r'[\\n]'\n",
    "\n",
    "# opens the review file\n",
    "with open('stanfordSentimentTreebank/dictionary.txt') as file:\n",
    "    # iterates through each row\n",
    "    for row in file:\n",
    "        string = str(row) # converts row into a string\n",
    "        split_string = string.split('|') # splits the string in two parts (snippet and id)\n",
    "\n",
    "        # sets the first element of the string (snippet) as key\n",
    "        key = split_string[0]\n",
    "        # sets the second element of the string (id) as value\n",
    "        # snippet id is followed by \\n, which we want to strip\n",
    "        value = re.sub(search, '', split_string[1])\n",
    "\n",
    "        # sets key and value of dictionary entry\n",
    "        review_dict[key] = value\n",
    "\n",
    "# checks dictionary length is correct\n",
    "print(len(review_dict))\n",
    "# print(review_dict) # uncomment to check dictionary is correctly built"
   ]
  },
  {
   "cell_type": "code",
   "execution_count": null,
   "metadata": {},
   "outputs": [],
   "source": []
  }
 ],
 "metadata": {
  "interpreter": {
   "hash": "f5335eeea33ebf6696add4ab17cc9c72a1358f0fa3ca762c2d5eed5a49847338"
  },
  "kernelspec": {
   "display_name": "Python 3.9.13 ('tensf-environment')",
   "language": "python",
   "name": "python3"
  },
  "language_info": {
   "codemirror_mode": {
    "name": "ipython",
    "version": 3
   },
   "file_extension": ".py",
   "mimetype": "text/x-python",
   "name": "python",
   "nbconvert_exporter": "python",
   "pygments_lexer": "ipython3",
   "version": "3.9.13"
  },
  "orig_nbformat": 4
 },
 "nbformat": 4,
 "nbformat_minor": 2
}
