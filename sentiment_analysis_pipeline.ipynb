{
 "cells": [
  {
   "cell_type": "markdown",
   "metadata": {},
   "source": [
    "In this notebook, I'll create a sentiment analysis pipeline in Tensorflow using Python."
   ]
  },
  {
   "cell_type": "markdown",
   "metadata": {},
   "source": [
    "The chosen dataset, the Stanford Sentiment Treebank, stores reviews snippets in a file called `dictionary.txt`, and their respective sentiment value in `sentiment_labels.txt`. Here, I shall combine these pieces of information in a dictionary that maps reviews to values, and then convert the dictionary in a .cvs file."
   ]
  },
  {
   "cell_type": "code",
   "execution_count": 82,
   "metadata": {},
   "outputs": [],
   "source": [
    "import re"
   ]
  },
  {
   "cell_type": "code",
   "execution_count": 83,
   "metadata": {},
   "outputs": [
    {
     "name": "stdout",
     "output_type": "stream",
     "text": [
      "239232\n"
     ]
    }
   ],
   "source": [
    "# initialises review dictionary\n",
    "# this will map each snippet of text (key) to the corresponding id (value)\n",
    "review_dict = {}\n",
    "search = r'[\\n]'\n",
    "\n",
    "# opens the review file\n",
    "with open('stanfordSentimentTreebank/dictionary.txt') as review_file:\n",
    "    # iterates through each row\n",
    "    for row in review_file:\n",
    "        string = str(row) # converts row into a string\n",
    "        split_string = string.split('|') # splits the string in two parts (snippet and id)\n",
    "\n",
    "        # sets the second element of the string (id) as key\n",
    "        # snippet id is followed by \\n, which we want to strip\n",
    "        key = re.sub(search, '', split_string[1])\n",
    "        # sets the first element of the string (snippet) as value\n",
    "        value = split_string[0]\n",
    "\n",
    "        # sets key and value of dictionary entry\n",
    "        # the dictionary has the form: {'id': 'snippet'}, where id is a number\n",
    "        review_dict[key] = value\n",
    "\n",
    "# checks dictionary length is correct\n",
    "print(len(review_dict))\n",
    "# print(review_dict) # uncomment to check dictionary is correctly built"
   ]
  },
  {
   "cell_type": "code",
   "execution_count": 84,
   "metadata": {},
   "outputs": [],
   "source": [
    "row_count = 0\n",
    "\n",
    "# opens the sentiment value file\n",
    "with open('stanfordSentimentTreebank/sentiment_labels.txt') as sentiment_file:\n",
    "    # iterates through each row\n",
    "    for sent_row in sentiment_file:\n",
    "        row_count += 1\n",
    "\n",
    "        if row_count != 1: \n",
    "            sentiment_split_string = sent_row.split('|')\n",
    "\n",
    "            id = sentiment_split_string[0] # equivalent to dictionary keys\n",
    "            # re.sub needs to be converted into string to be used as a dictionary key\n",
    "            new_id = str(re.sub(search, '', sentiment_split_string[1]))\n",
    "\n",
    "            # removes the old keys and replaces them with the corresponding sentiment value\n",
    "            review_dict[new_id] = review_dict.pop(id)\n",
    "            \n",
    "# print(review_dict) # uncomment to check whether dictionary is correctly built"
   ]
  }
 ],
 "metadata": {
  "interpreter": {
   "hash": "f5335eeea33ebf6696add4ab17cc9c72a1358f0fa3ca762c2d5eed5a49847338"
  },
  "kernelspec": {
   "display_name": "Python 3.9.13 ('tensf-environment')",
   "language": "python",
   "name": "python3"
  },
  "language_info": {
   "codemirror_mode": {
    "name": "ipython",
    "version": 3
   },
   "file_extension": ".py",
   "mimetype": "text/x-python",
   "name": "python",
   "nbconvert_exporter": "python",
   "pygments_lexer": "ipython3",
   "version": "3.9.13"
  },
  "orig_nbformat": 4
 },
 "nbformat": 4,
 "nbformat_minor": 2
}
