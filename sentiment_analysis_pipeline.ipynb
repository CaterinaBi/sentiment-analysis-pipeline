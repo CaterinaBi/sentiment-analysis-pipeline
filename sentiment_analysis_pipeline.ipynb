{
 "cells": [
  {
   "cell_type": "markdown",
   "metadata": {},
   "source": [
    "In this notebook, I'll create a sentiment analysis pipeline in Tensorflow using Python."
   ]
  },
  {
   "cell_type": "markdown",
   "metadata": {},
   "source": [
    "The chosen dataset, the Stanford Sentiment Treebank, stores reviews snippets in a file called `dictionary.txt`, and their respective sentiment value in `sentiment_labels.txt`. Here, I shall combine these pieces of information in a dictionary that maps reviews to values, and then convert the dictionary in a .csv file."
   ]
  },
  {
   "cell_type": "code",
   "execution_count": 3,
   "metadata": {},
   "outputs": [],
   "source": [
    "import re\n",
    "import csv"
   ]
  },
  {
   "cell_type": "code",
   "execution_count": 4,
   "metadata": {},
   "outputs": [
    {
     "name": "stdout",
     "output_type": "stream",
     "text": [
      "239232\n"
     ]
    }
   ],
   "source": [
    "# initialises review list\n",
    "# this will contain dictionaries that map each snippet of text (value) to the corresponding id (key)\n",
    "review_dictionaries = []\n",
    "search = r'[\\n]'\n",
    "\n",
    "# opens the review file\n",
    "with open('stanfordSentimentTreebank/dictionary.txt') as review_file:\n",
    "    # iterates through each row\n",
    "    for row in review_file:\n",
    "        string = str(row) # converts row into a string\n",
    "        split_string = string.split('|') # splits the string in two parts (snippet and id)\n",
    "\n",
    "        # sets the second element of the string as id\n",
    "        # snippet id is followed by \\n, which we want to strip\n",
    "        id = re.sub(search, '', split_string[1])\n",
    "        # sets the first element of the string as snippet\n",
    "        snippet = split_string[0]\n",
    "\n",
    "        # sets key and value of dictionary entry\n",
    "        # the dictionary has the form: {'id': id, 'snippet': snippet}, where id is a number\n",
    "        dictionary = {}\n",
    "        dictionary['id'] = id\n",
    "        dictionary['snippet'] = snippet\n",
    "\n",
    "        # print(dictionary)\n",
    "\n",
    "        review_dictionaries.append(dictionary)\n",
    "\n",
    "# checks dictionary length is correct\n",
    "print(len(review_dictionaries))\n",
    "# print(review_dictionaries) # uncomment to check dictionary is correctly built"
   ]
  },
  {
   "cell_type": "code",
   "execution_count": 8,
   "metadata": {},
   "outputs": [],
   "source": [
    "row_count = 0\n",
    "sentiment_list = []\n",
    "\n",
    "# opens the sentiment value file\n",
    "with open('stanfordSentimentTreebank/sentiment_labels.txt') as sentiment_file:\n",
    "    # iterates through each row\n",
    "    for sent_row in sentiment_file:\n",
    "        row_count += 1\n",
    "\n",
    "        if row_count != 1: \n",
    "            sentiment_split_string = sent_row.split('|')\n",
    "\n",
    "            # re.sub needs to be converted into string to be used as a dictionary key\n",
    "            sentiment_dict = {}\n",
    "            sentiment_dict['score'] = str(re.sub(search, '', sentiment_split_string[1]))\n",
    "            sentiment_dict['id'] = sentiment_split_string[0]\n",
    "\n",
    "            sentiment_list.append(sentiment_dict)\n",
    "            \n",
    "# print(sentiment_list) # uncomment to check whether dictionary is correctly built"
   ]
  },
  {
   "cell_type": "code",
   "execution_count": null,
   "metadata": {},
   "outputs": [],
   "source": [
    "for dict_review in review_dictionaries:\n",
    "    for dict_score in sentiment_list:\n",
    "        if dict_review['id'] == dict_score['id']:\n",
    "            dict_review.update(dict_score)\n",
    "\n",
    "print(dict_review)"
   ]
  },
  {
   "cell_type": "markdown",
   "metadata": {},
   "source": [
    "I will now convert our dictionary into a .cvs file, which I will call `data.cvs`. The file will display the sentiment score on the first column and the associated snippet on the second column."
   ]
  },
  {
   "cell_type": "code",
   "execution_count": 6,
   "metadata": {},
   "outputs": [],
   "source": [
    "# declares columns names\n",
    "csv_columns = ['id','snippet', 'score']\n",
    "\n",
    "# decides on file name and extension\n",
    "csv_file = \"data.csv\"\n",
    "\n",
    "with open(csv_file, 'w') as csvfile:\n",
    "        writer = csv.DictWriter(csvfile, fieldnames=csv_columns)\n",
    "        writer.writeheader()\n",
    "        writer.writerows(review_dictionaries)"
   ]
  }
 ],
 "metadata": {
  "interpreter": {
   "hash": "f5335eeea33ebf6696add4ab17cc9c72a1358f0fa3ca762c2d5eed5a49847338"
  },
  "kernelspec": {
   "display_name": "Python 3.9.13 ('tensf-environment')",
   "language": "python",
   "name": "python3"
  },
  "language_info": {
   "codemirror_mode": {
    "name": "ipython",
    "version": 3
   },
   "file_extension": ".py",
   "mimetype": "text/x-python",
   "name": "python",
   "nbconvert_exporter": "python",
   "pygments_lexer": "ipython3",
   "version": "3.9.13"
  },
  "orig_nbformat": 4
 },
 "nbformat": 4,
 "nbformat_minor": 2
}
