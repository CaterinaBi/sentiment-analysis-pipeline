{
 "cells": [
  {
   "cell_type": "markdown",
   "metadata": {},
   "source": [
    "In this notebook, I'll create a sentiment analysis pipeline in Tensorflow using Python."
   ]
  },
  {
   "cell_type": "markdown",
   "metadata": {},
   "source": [
    "The chosen dataset, the Stanford Sentiment Treebank, stores reviews snippets in a file called `dictionary.txt`, and their respective sentiment value in `sentiment_labels.txt`. Here, I shall combine these pieces of information in a dictionary that maps reviews to values, and then convert the dictionary in a .csv file."
   ]
  },
  {
   "cell_type": "code",
   "execution_count": 9,
   "metadata": {},
   "outputs": [],
   "source": [
    "import re\n",
    "import csv\n",
    "# import collections\n",
    "import operator\n",
    "from operator import itemgetter"
   ]
  },
  {
   "cell_type": "code",
   "execution_count": 21,
   "metadata": {},
   "outputs": [
    {
     "ename": "KeyboardInterrupt",
     "evalue": "",
     "output_type": "error",
     "traceback": [
      "\u001b[0;31m---------------------------------------------------------------------------\u001b[0m",
      "\u001b[0;31mKeyboardInterrupt\u001b[0m                         Traceback (most recent call last)",
      "Cell \u001b[0;32mIn [21], line 35\u001b[0m\n\u001b[1;32m     32\u001b[0m \u001b[38;5;28;01mif\u001b[39;00m row_count \u001b[38;5;241m!=\u001b[39m \u001b[38;5;241m1\u001b[39m: \n\u001b[1;32m     33\u001b[0m     sentiment_split_string \u001b[38;5;241m=\u001b[39m sent_row\u001b[38;5;241m.\u001b[39msplit(\u001b[38;5;124m'\u001b[39m\u001b[38;5;124m|\u001b[39m\u001b[38;5;124m'\u001b[39m)\n\u001b[0;32m---> 35\u001b[0m     score \u001b[38;5;241m=\u001b[39m \u001b[38;5;28mstr\u001b[39m(re\u001b[38;5;241m.\u001b[39msub(search, \u001b[38;5;124m'\u001b[39m\u001b[38;5;124m'\u001b[39m, sentiment_split_string[\u001b[38;5;241m1\u001b[39m]))\n\u001b[1;32m     36\u001b[0m     id2 \u001b[38;5;241m=\u001b[39m sentiment_split_string[\u001b[38;5;241m0\u001b[39m]\n\u001b[1;32m     38\u001b[0m     \u001b[38;5;28;01mif\u001b[39;00m id2 \u001b[38;5;241m==\u001b[39m \u001b[38;5;28mid\u001b[39m:\n",
      "\u001b[0;31mKeyboardInterrupt\u001b[0m: "
     ]
    }
   ],
   "source": [
    "# initialises review list\n",
    "# this will contain dictionaries that map each snippet of text (value) to the corresponding id (key)\n",
    "review_dictionaries = []\n",
    "search = r'[\\n]'\n",
    "\n",
    "row_count = 0\n",
    "\n",
    "# opens the review file\n",
    "with open('stanfordSentimentTreebank/dictionary.txt') as review_file:\n",
    "    # iterates through each row\n",
    "    for row in review_file:\n",
    "        string = str(row) # converts row into a string\n",
    "        split_string = string.split('|') # splits the string in two parts (snippet and id)\n",
    "\n",
    "        # sets the second element of the string as id\n",
    "        # snippet id is followed by \\n, which we want to strip\n",
    "        id = re.sub(search, '', split_string[1])\n",
    "        # sets the first element of the string as snippet\n",
    "        snippet = split_string[0]\n",
    "\n",
    "        # sets key and value of dictionary entry\n",
    "        # the dictionary has the form: {'id': id, 'snippet': snippet}, where id is a number\n",
    "        dictionary = {}\n",
    "        dictionary['id'] = int(id)\n",
    "        dictionary['snippet'] = snippet\n",
    "\n",
    "        with open('stanfordSentimentTreebank/sentiment_labels.txt') as sentiment_file:\n",
    "        # iterates through each row\n",
    "            for sent_row in sentiment_file:\n",
    "                row_count += 1\n",
    "\n",
    "                if row_count != 1: \n",
    "                    sentiment_split_string = sent_row.split('|')\n",
    "                    \n",
    "                    score = str(re.sub(search, '', sentiment_split_string[1]))\n",
    "                    id2 = sentiment_split_string[0]\n",
    "\n",
    "                    if id2 == id:\n",
    "                        dictionary['score'] = score\n",
    "\n",
    "        review_dictionaries.append(dictionary)\n",
    "\n",
    "# checks dictionary length is correct\n",
    "print(len(review_dictionaries))\n",
    "# print(review_dictionaries) # uncomment to check dictionary is correctly built"
   ]
  },
  {
   "cell_type": "code",
   "execution_count": 15,
   "metadata": {},
   "outputs": [],
   "source": [
    "# declares columns names\n",
    "csv_columns = ['id','snippet']\n",
    "\n",
    "# decides on file name and extension\n",
    "csv_file = \"data.csv\"\n",
    "\n",
    "with open(csv_file, 'w') as csvfile:\n",
    "        writer = csv.DictWriter(csvfile, fieldnames=csv_columns)\n",
    "        writer.writeheader()\n",
    "        writer.writerows(review_dictionaries)"
   ]
  },
  {
   "cell_type": "code",
   "execution_count": 18,
   "metadata": {},
   "outputs": [
    {
     "ename": "NameError",
     "evalue": "name 'operator' is not defined",
     "output_type": "error",
     "traceback": [
      "\u001b[0;31m---------------------------------------------------------------------------\u001b[0m",
      "\u001b[0;31mNameError\u001b[0m                                 Traceback (most recent call last)",
      "Cell \u001b[0;32mIn [18], line 20\u001b[0m\n\u001b[1;32m     16\u001b[0m             sentiment_dict[\u001b[38;5;124m'\u001b[39m\u001b[38;5;124mid\u001b[39m\u001b[38;5;124m'\u001b[39m] \u001b[38;5;241m=\u001b[39m \u001b[38;5;28mint\u001b[39m(sentiment_split_string[\u001b[38;5;241m0\u001b[39m])\n\u001b[1;32m     18\u001b[0m             sentiment_list\u001b[38;5;241m.\u001b[39mappend(sentiment_dict)\n\u001b[0;32m---> 20\u001b[0m sorted_list \u001b[38;5;241m=\u001b[39m \u001b[38;5;28msorted\u001b[39m(sentiment_list, key\u001b[38;5;241m=\u001b[39moperator\u001b[38;5;241m.\u001b[39mitemgetter(\u001b[38;5;124m'\u001b[39m\u001b[38;5;124mid\u001b[39m\u001b[38;5;124m'\u001b[39m), reverse\u001b[38;5;241m=\u001b[39m\u001b[38;5;28;01mTrue\u001b[39;00m)\n\u001b[1;32m     21\u001b[0m \u001b[38;5;28mprint\u001b[39m(sorted_list)\n",
      "\u001b[0;31mNameError\u001b[0m: name 'operator' is not defined"
     ]
    }
   ],
   "source": [
    "\n",
    "sentiment_list = []\n",
    "\n",
    "# opens the sentiment value file\n",
    "with open('stanfordSentimentTreebank/sentiment_labels.txt') as sentiment_file:\n",
    "    # iterates through each row\n",
    "    for sent_row in sentiment_file:\n",
    "        row_count += 1\n",
    "\n",
    "        if row_count != 1: \n",
    "            sentiment_split_string = sent_row.split('|')\n",
    "\n",
    "            # re.sub needs to be converted into string to be used as a dictionary key\n",
    "            sentiment_dict = {}\n",
    "            sentiment_dict['score'] = str(re.sub(search, '', sentiment_split_string[1]))\n",
    "            sentiment_dict['id'] = int(sentiment_split_string[0])\n",
    "\n",
    "            sentiment_list.append(sentiment_dict)\n",
    "\n",
    "sorted_list = sorted(sentiment_list, key=operator.itemgetter('id'), reverse=True)\n",
    "print(sorted_list)\n",
    "            \n",
    "# print(sentiment_list) # uncomment to check whether dictionary is correctly built"
   ]
  },
  {
   "cell_type": "code",
   "execution_count": 12,
   "metadata": {},
   "outputs": [
    {
     "ename": "KeyboardInterrupt",
     "evalue": "",
     "output_type": "error",
     "traceback": [
      "\u001b[0;31m---------------------------------------------------------------------------\u001b[0m",
      "\u001b[0;31mKeyboardInterrupt\u001b[0m                         Traceback (most recent call last)",
      "Cell \u001b[0;32mIn [12], line 3\u001b[0m\n\u001b[1;32m      1\u001b[0m \u001b[38;5;28;01mfor\u001b[39;00m dict_review \u001b[38;5;129;01min\u001b[39;00m review_dictionaries:\n\u001b[1;32m      2\u001b[0m     \u001b[38;5;28;01mfor\u001b[39;00m dict_score \u001b[38;5;129;01min\u001b[39;00m sentiment_list:\n\u001b[0;32m----> 3\u001b[0m         \u001b[38;5;28;01mif\u001b[39;00m dict_review[\u001b[38;5;124m'\u001b[39m\u001b[38;5;124mid\u001b[39m\u001b[38;5;124m'\u001b[39m] \u001b[38;5;241m==\u001b[39m dict_score[\u001b[38;5;124m'\u001b[39m\u001b[38;5;124mid\u001b[39m\u001b[38;5;124m'\u001b[39m]:\n\u001b[1;32m      4\u001b[0m             dict_review\u001b[38;5;241m.\u001b[39mupdate(dict_score)\n\u001b[1;32m      6\u001b[0m \u001b[38;5;28mprint\u001b[39m(dict_review)\n",
      "\u001b[0;31mKeyboardInterrupt\u001b[0m: "
     ]
    }
   ],
   "source": [
    "for dict_review in review_dictionaries:\n",
    "    for dict_score in sentiment_list:\n",
    "        if dict_review['id'] == dict_score['id']:\n",
    "            dict_review.update(dict_score)\n",
    "\n",
    "print(dict_review)"
   ]
  },
  {
   "cell_type": "markdown",
   "metadata": {},
   "source": [
    "I will now convert our dictionary into a .cvs file, which I will call `data.cvs`. The file will display the sentiment score on the first column and the associated snippet on the second column."
   ]
  },
  {
   "cell_type": "code",
   "execution_count": null,
   "metadata": {},
   "outputs": [],
   "source": [
    "# declares columns names\n",
    "csv_columns = ['id','snippet', 'score']\n",
    "\n",
    "# decides on file name and extension\n",
    "csv_file = \"data.csv\"\n",
    "\n",
    "with open(csv_file, 'w') as csvfile:\n",
    "        writer = csv.DictWriter(csvfile, fieldnames=csv_columns)\n",
    "        writer.writeheader()\n",
    "        writer.writerows(review_dictionaries)"
   ]
  }
 ],
 "metadata": {
  "interpreter": {
   "hash": "f5335eeea33ebf6696add4ab17cc9c72a1358f0fa3ca762c2d5eed5a49847338"
  },
  "kernelspec": {
   "display_name": "Python 3.9.13 ('tensf-environment')",
   "language": "python",
   "name": "python3"
  },
  "language_info": {
   "codemirror_mode": {
    "name": "ipython",
    "version": 3
   },
   "file_extension": ".py",
   "mimetype": "text/x-python",
   "name": "python",
   "nbconvert_exporter": "python",
   "pygments_lexer": "ipython3",
   "version": "3.9.13"
  },
  "orig_nbformat": 4
 },
 "nbformat": 4,
 "nbformat_minor": 2
}
