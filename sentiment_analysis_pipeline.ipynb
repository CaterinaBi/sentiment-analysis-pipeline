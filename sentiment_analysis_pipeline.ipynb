{
 "cells": [
  {
   "cell_type": "markdown",
   "metadata": {},
   "source": [
    "In this notebook, I'll create a sentiment analysis pipeline in Tensorflow."
   ]
  },
  {
   "cell_type": "markdown",
   "metadata": {},
   "source": [
    "The chosen dataset, the Stanford Sentiment Treebank, stores reviews in a file called `datasetSentences.txt`, and their respective sentiment value in `sentiment_labels.txt`. Here, I shall combine these pieces of information in a dictionary that maps reviews to values, and then convert the dictionary in a .cvs file."
   ]
  }
 ],
 "metadata": {
  "language_info": {
   "name": "python"
  },
  "orig_nbformat": 4
 },
 "nbformat": 4,
 "nbformat_minor": 2
}
